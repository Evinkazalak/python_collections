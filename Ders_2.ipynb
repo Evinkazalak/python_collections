{
 "cells": [
  {
   "cell_type": "markdown",
   "id": "e755f14c",
   "metadata": {},
   "source": [
    "# KOLEKSİYONLAR (Liste, Sözlük,Demet,Set)"
   ]
  },
  {
   "cell_type": "markdown",
   "id": "33a6b922",
   "metadata": {},
   "source": [
    "LİSTELER"
   ]
  },
  {
   "cell_type": "markdown",
   "id": "aa09c2ee",
   "metadata": {},
   "source": [
    "koleksiyonlar birden fazla veriyi art arda tutmamızı sağlayan yapılardır. Örneğin 50 tane stringin var 50 tane değişken oluşturacağına  1 tane liste oluşturup kullanabilirsin"
   ]
  },
  {
   "cell_type": "code",
   "execution_count": 1,
   "id": "48709101",
   "metadata": {},
   "outputs": [],
   "source": [
    "benımlıstem=[1,2,3,4,5,6,7,8,9,0]"
   ]
  },
  {
   "cell_type": "code",
   "execution_count": 2,
   "id": "ca313a6a",
   "metadata": {},
   "outputs": [
    {
     "data": {
      "text/plain": [
       "list"
      ]
     },
     "execution_count": 2,
     "metadata": {},
     "output_type": "execute_result"
    }
   ],
   "source": [
    "type(benımlıstem)"
   ]
  },
  {
   "cell_type": "markdown",
   "id": "0e277999",
   "metadata": {},
   "source": [
    "ayrı ayrı değişkenleri alıp bir listede bir araya getirebilirsin"
   ]
  },
  {
   "cell_type": "code",
   "execution_count": 3,
   "id": "642f6163",
   "metadata": {},
   "outputs": [],
   "source": [
    "benımNumara=12"
   ]
  },
  {
   "cell_type": "code",
   "execution_count": 4,
   "id": "ccc4cf80",
   "metadata": {},
   "outputs": [],
   "source": [
    "benımDıgerNumara=23"
   ]
  },
  {
   "cell_type": "code",
   "execution_count": 7,
   "id": "3d268cb7",
   "metadata": {},
   "outputs": [],
   "source": [
    "totalNumara=[benımDıgerNumara,benımNumara]"
   ]
  },
  {
   "cell_type": "code",
   "execution_count": 8,
   "id": "79e9d683",
   "metadata": {},
   "outputs": [
    {
     "data": {
      "text/plain": [
       "23"
      ]
     },
     "execution_count": 8,
     "metadata": {},
     "output_type": "execute_result"
    }
   ],
   "source": [
    "totalNumara[0]"
   ]
  },
  {
   "cell_type": "code",
   "execution_count": 9,
   "id": "b5ef19ac",
   "metadata": {},
   "outputs": [
    {
     "data": {
      "text/plain": [
       "12"
      ]
     },
     "execution_count": 9,
     "metadata": {},
     "output_type": "execute_result"
    }
   ],
   "source": [
    "totalNumara[1]"
   ]
  },
  {
   "cell_type": "markdown",
   "id": "77d0ffe1",
   "metadata": {},
   "source": [
    "indekslerde bir değiştirme işlemi yapabilirsin"
   ]
  },
  {
   "cell_type": "code",
   "execution_count": 10,
   "id": "530badb7",
   "metadata": {},
   "outputs": [],
   "source": [
    "benımlıstem[0]=100"
   ]
  },
  {
   "cell_type": "code",
   "execution_count": 11,
   "id": "d232aa5d",
   "metadata": {},
   "outputs": [
    {
     "data": {
      "text/plain": [
       "[100, 2, 3, 4, 5, 6, 7, 8, 9, 0]"
      ]
     },
     "execution_count": 11,
     "metadata": {},
     "output_type": "execute_result"
    }
   ],
   "source": [
    "benımlıstem"
   ]
  },
  {
   "cell_type": "code",
   "execution_count": 12,
   "id": "ded53562",
   "metadata": {},
   "outputs": [],
   "source": [
    "benımlıstem.append(123)"
   ]
  },
  {
   "cell_type": "code",
   "execution_count": 13,
   "id": "000c41e6",
   "metadata": {},
   "outputs": [
    {
     "data": {
      "text/plain": [
       "[100, 2, 3, 4, 5, 6, 7, 8, 9, 0, 123]"
      ]
     },
     "execution_count": 13,
     "metadata": {},
     "output_type": "execute_result"
    }
   ],
   "source": [
    "benımlıstem"
   ]
  },
  {
   "cell_type": "code",
   "execution_count": 15,
   "id": "265c10ac",
   "metadata": {},
   "outputs": [
    {
     "data": {
      "text/plain": [
       "123"
      ]
     },
     "execution_count": 15,
     "metadata": {},
     "output_type": "execute_result"
    }
   ],
   "source": [
    "benımlıstem.pop()"
   ]
  },
  {
   "cell_type": "code",
   "execution_count": 16,
   "id": "01aea4c8",
   "metadata": {},
   "outputs": [
    {
     "data": {
      "text/plain": [
       "[100, 2, 3, 4, 5, 6, 7, 8, 9, 0]"
      ]
     },
     "execution_count": 16,
     "metadata": {},
     "output_type": "execute_result"
    }
   ],
   "source": [
    "benımlıstem"
   ]
  },
  {
   "cell_type": "code",
   "execution_count": 17,
   "id": "994d90a7",
   "metadata": {},
   "outputs": [],
   "source": [
    "benımlıstem.append(100)"
   ]
  },
  {
   "cell_type": "code",
   "execution_count": 18,
   "id": "c9b1c870",
   "metadata": {},
   "outputs": [
    {
     "data": {
      "text/plain": [
       "[100, 2, 3, 4, 5, 6, 7, 8, 9, 0, 100]"
      ]
     },
     "execution_count": 18,
     "metadata": {},
     "output_type": "execute_result"
    }
   ],
   "source": [
    "benımlıstem"
   ]
  },
  {
   "cell_type": "code",
   "execution_count": 19,
   "id": "52e6b171",
   "metadata": {},
   "outputs": [
    {
     "data": {
      "text/plain": [
       "2"
      ]
     },
     "execution_count": 19,
     "metadata": {},
     "output_type": "execute_result"
    }
   ],
   "source": [
    "benımlıstem.count(100)"
   ]
  },
  {
   "cell_type": "code",
   "execution_count": 20,
   "id": "2b2d042b",
   "metadata": {},
   "outputs": [],
   "source": [
    "kızkardeslerım=[\"Berfin\",\"Sema\"]"
   ]
  },
  {
   "cell_type": "code",
   "execution_count": 21,
   "id": "9ba23779",
   "metadata": {},
   "outputs": [],
   "source": [
    "erkekkardeslerım=[\"Hasan\", \"Hüseyin\", \"Mami\"]"
   ]
  },
  {
   "cell_type": "code",
   "execution_count": 22,
   "id": "51c924dd",
   "metadata": {},
   "outputs": [],
   "source": [
    "kardeslerım=[kızkardeslerım+erkekkardeslerım]"
   ]
  },
  {
   "cell_type": "code",
   "execution_count": 23,
   "id": "14076a6f",
   "metadata": {},
   "outputs": [
    {
     "data": {
      "text/plain": [
       "[['Berfin', 'Sema', 'Hasan', 'Hüseyin', 'Mami']]"
      ]
     },
     "execution_count": 23,
     "metadata": {},
     "output_type": "execute_result"
    }
   ],
   "source": [
    "kardeslerım"
   ]
  },
  {
   "cell_type": "code",
   "execution_count": 24,
   "id": "5d566ca1",
   "metadata": {},
   "outputs": [
    {
     "data": {
      "text/plain": [
       "[['Berfin', 'Sema', 'Hasan', 'Hüseyin', 'Mami'],\n",
       " ['Berfin', 'Sema', 'Hasan', 'Hüseyin', 'Mami'],\n",
       " ['Berfin', 'Sema', 'Hasan', 'Hüseyin', 'Mami'],\n",
       " ['Berfin', 'Sema', 'Hasan', 'Hüseyin', 'Mami'],\n",
       " ['Berfin', 'Sema', 'Hasan', 'Hüseyin', 'Mami']]"
      ]
     },
     "execution_count": 24,
     "metadata": {},
     "output_type": "execute_result"
    }
   ],
   "source": [
    "kardeslerım*5"
   ]
  },
  {
   "cell_type": "code",
   "execution_count": 25,
   "id": "f62d5ee9",
   "metadata": {},
   "outputs": [
    {
     "data": {
      "text/plain": [
       "[['Berfin', 'Sema', 'Hasan', 'Hüseyin', 'Mami'],\n",
       " ['Berfin', 'Sema', 'Hasan', 'Hüseyin', 'Mami'],\n",
       " ['Berfin', 'Sema', 'Hasan', 'Hüseyin', 'Mami'],\n",
       " ['Berfin', 'Sema', 'Hasan', 'Hüseyin', 'Mami'],\n",
       " ['Berfin', 'Sema', 'Hasan', 'Hüseyin', 'Mami'],\n",
       " ['Berfin', 'Sema', 'Hasan', 'Hüseyin', 'Mami'],\n",
       " ['Berfin', 'Sema', 'Hasan', 'Hüseyin', 'Mami'],\n",
       " ['Berfin', 'Sema', 'Hasan', 'Hüseyin', 'Mami'],\n",
       " ['Berfin', 'Sema', 'Hasan', 'Hüseyin', 'Mami'],\n",
       " ['Berfin', 'Sema', 'Hasan', 'Hüseyin', 'Mami'],\n",
       " ['Berfin', 'Sema', 'Hasan', 'Hüseyin', 'Mami'],\n",
       " ['Berfin', 'Sema', 'Hasan', 'Hüseyin', 'Mami']]"
      ]
     },
     "execution_count": 25,
     "metadata": {},
     "output_type": "execute_result"
    }
   ],
   "source": [
    "kardeslerım*12"
   ]
  },
  {
   "cell_type": "markdown",
   "id": "6c26fe98",
   "metadata": {},
   "source": [
    "listelerde çarpma işlemi yapabilirsin ama bölme işlemi yapamassın bölme işlemi yapmak sana hata verecektir."
   ]
  },
  {
   "cell_type": "code",
   "execution_count": 26,
   "id": "9aeacf37",
   "metadata": {},
   "outputs": [],
   "source": [
    "kardeslerım.reverse()"
   ]
  },
  {
   "cell_type": "code",
   "execution_count": 27,
   "id": "51444811",
   "metadata": {},
   "outputs": [
    {
     "data": {
      "text/plain": [
       "[['Berfin', 'Sema', 'Hasan', 'Hüseyin', 'Mami']]"
      ]
     },
     "execution_count": 27,
     "metadata": {},
     "output_type": "execute_result"
    }
   ],
   "source": [
    "kardeslerım"
   ]
  },
  {
   "cell_type": "code",
   "execution_count": 28,
   "id": "93f3580d",
   "metadata": {},
   "outputs": [
    {
     "data": {
      "text/plain": [
       "[['Berfin', 'Sema', 'Hasan', 'Hüseyin', 'Mami']]"
      ]
     },
     "execution_count": 28,
     "metadata": {},
     "output_type": "execute_result"
    }
   ],
   "source": [
    "kardeslerım"
   ]
  },
  {
   "cell_type": "code",
   "execution_count": 29,
   "id": "816f3582",
   "metadata": {},
   "outputs": [],
   "source": [
    "kardeslerım.reverse()"
   ]
  },
  {
   "cell_type": "code",
   "execution_count": 30,
   "id": "c2c9caf1",
   "metadata": {},
   "outputs": [
    {
     "data": {
      "text/plain": [
       "[['Berfin', 'Sema', 'Hasan', 'Hüseyin', 'Mami']]"
      ]
     },
     "execution_count": 30,
     "metadata": {},
     "output_type": "execute_result"
    }
   ],
   "source": [
    "kardeslerım"
   ]
  },
  {
   "cell_type": "code",
   "execution_count": 31,
   "id": "37830070",
   "metadata": {},
   "outputs": [],
   "source": [
    "meyve=[\"elma\",\"portakal\",\"muz\",\"kivi\"]"
   ]
  },
  {
   "cell_type": "code",
   "execution_count": 32,
   "id": "c50dd367",
   "metadata": {},
   "outputs": [],
   "source": [
    "sebze=[\"salatalık\",\"domates\",\"havuç\",\"lahana\"]"
   ]
  },
  {
   "cell_type": "code",
   "execution_count": 33,
   "id": "d63ac9d6",
   "metadata": {},
   "outputs": [],
   "source": [
    "c_vıtamını=[meyve+sebze]"
   ]
  },
  {
   "cell_type": "code",
   "execution_count": 34,
   "id": "b9f3b2f2",
   "metadata": {},
   "outputs": [
    {
     "data": {
      "text/plain": [
       "[['elma',\n",
       "  'portakal',\n",
       "  'muz',\n",
       "  'kivi',\n",
       "  'salatalık',\n",
       "  'domates',\n",
       "  'havuç',\n",
       "  'lahana']]"
      ]
     },
     "execution_count": 34,
     "metadata": {},
     "output_type": "execute_result"
    }
   ],
   "source": [
    "c_vıtamını"
   ]
  },
  {
   "cell_type": "code",
   "execution_count": 35,
   "id": "2987af18",
   "metadata": {},
   "outputs": [],
   "source": [
    "c_vıtamını.reverse()"
   ]
  },
  {
   "cell_type": "code",
   "execution_count": 36,
   "id": "0026dda6",
   "metadata": {},
   "outputs": [
    {
     "data": {
      "text/plain": [
       "[['elma',\n",
       "  'portakal',\n",
       "  'muz',\n",
       "  'kivi',\n",
       "  'salatalık',\n",
       "  'domates',\n",
       "  'havuç',\n",
       "  'lahana']]"
      ]
     },
     "execution_count": 36,
     "metadata": {},
     "output_type": "execute_result"
    }
   ],
   "source": [
    "c_vıtamını"
   ]
  },
  {
   "cell_type": "code",
   "execution_count": 37,
   "id": "9adb91ce",
   "metadata": {},
   "outputs": [
    {
     "data": {
      "text/plain": [
       "[['elma',\n",
       "  'portakal',\n",
       "  'muz',\n",
       "  'kivi',\n",
       "  'salatalık',\n",
       "  'domates',\n",
       "  'havuç',\n",
       "  'lahana']]"
      ]
     },
     "execution_count": 37,
     "metadata": {},
     "output_type": "execute_result"
    }
   ],
   "source": [
    "c_vıtamını"
   ]
  },
  {
   "cell_type": "markdown",
   "id": "4f779ad8",
   "metadata": {},
   "source": [
    "burada bir hata va reverse fonksiyonu ters çevirme işlemini normalde gerçekleştiren bir metot ama burda  çevirme işlemini gerçekleştirmiyor"
   ]
  },
  {
   "cell_type": "markdown",
   "id": "bc6e7d18",
   "metadata": {},
   "source": [
    "farklı veri tiplerini bir araya getirerek bir liste oluşturabilirsin  ve indeks numaraları sayesinde bunlara erişim sağlayabilirsin. tipini sorguladığında sana yine list diyecektir"
   ]
  },
  {
   "cell_type": "code",
   "execution_count": 38,
   "id": "1d7e688a",
   "metadata": {},
   "outputs": [],
   "source": [
    "karısık_lıste=[1,2,3,4,5,6,7,8,9,0,\"Evin\",\"Kazalak\"]"
   ]
  },
  {
   "cell_type": "code",
   "execution_count": 39,
   "id": "93db2edb",
   "metadata": {},
   "outputs": [
    {
     "data": {
      "text/plain": [
       "'Kazalak'"
      ]
     },
     "execution_count": 39,
     "metadata": {},
     "output_type": "execute_result"
    }
   ],
   "source": [
    "karısık_lıste[-1]"
   ]
  },
  {
   "cell_type": "code",
   "execution_count": 40,
   "id": "98b2cc2c",
   "metadata": {},
   "outputs": [
    {
     "data": {
      "text/plain": [
       "list"
      ]
     },
     "execution_count": 40,
     "metadata": {},
     "output_type": "execute_result"
    }
   ],
   "source": [
    "type(karısık_lıste)"
   ]
  },
  {
   "cell_type": "markdown",
   "id": "8a7f0a56",
   "metadata": {},
   "source": [
    "liste içine liste ekleyebiliyorsun buradada nested list kavramı ortaya çıkıyor. buda birbiri içine yuvalnamış, geçmiş liste demektir."
   ]
  },
  {
   "cell_type": "code",
   "execution_count": 41,
   "id": "04363a81",
   "metadata": {},
   "outputs": [],
   "source": [
    "nestedLıst=[1,3,\"Evin\",2,[7,8]]"
   ]
  },
  {
   "cell_type": "code",
   "execution_count": 42,
   "id": "d0da36b6",
   "metadata": {},
   "outputs": [
    {
     "data": {
      "text/plain": [
       "[7, 8]"
      ]
     },
     "execution_count": 42,
     "metadata": {},
     "output_type": "execute_result"
    }
   ],
   "source": [
    "nestedLıst[4]"
   ]
  },
  {
   "cell_type": "code",
   "execution_count": 43,
   "id": "e95ca869",
   "metadata": {},
   "outputs": [
    {
     "data": {
      "text/plain": [
       "8"
      ]
     },
     "execution_count": 43,
     "metadata": {},
     "output_type": "execute_result"
    }
   ],
   "source": [
    "nestedLıst[4][1]"
   ]
  },
  {
   "cell_type": "code",
   "execution_count": 44,
   "id": "27bed744",
   "metadata": {},
   "outputs": [
    {
     "data": {
      "text/plain": [
       "[1, 3]"
      ]
     },
     "execution_count": 44,
     "metadata": {},
     "output_type": "execute_result"
    }
   ],
   "source": [
    "nestedLıst[:2]"
   ]
  },
  {
   "cell_type": "code",
   "execution_count": 45,
   "id": "a04fa2ed",
   "metadata": {},
   "outputs": [
    {
     "data": {
      "text/plain": [
       "['Evin', 2, [7, 8]]"
      ]
     },
     "execution_count": 45,
     "metadata": {},
     "output_type": "execute_result"
    }
   ],
   "source": [
    "nestedLıst[2:]"
   ]
  },
  {
   "cell_type": "markdown",
   "id": "aad9787d",
   "metadata": {},
   "source": [
    "DİCTİONARY- SÖZLÜKLER"
   ]
  },
  {
   "cell_type": "markdown",
   "id": "a513bddd",
   "metadata": {},
   "source": [
    "Sözlükler listelerdeki gibi indeks mantığı ile çalışmıyor burada anahtar değer eşleştirmesi vardır ve ona göre bir ilerleme kaydeder.\n",
    "-Burada süslü parantezler ile çalışacaksın.\n"
   ]
  },
  {
   "cell_type": "code",
   "execution_count": 51,
   "id": "e36c035c",
   "metadata": {},
   "outputs": [],
   "source": [
    "benım_Sozluk={\"anahtarKelime\" : \"değer\"}"
   ]
  },
  {
   "cell_type": "code",
   "execution_count": 52,
   "id": "836052b3",
   "metadata": {},
   "outputs": [
    {
     "data": {
      "text/plain": [
       "dict"
      ]
     },
     "execution_count": 52,
     "metadata": {},
     "output_type": "execute_result"
    }
   ],
   "source": [
    "type(benım_Sozluk)"
   ]
  },
  {
   "cell_type": "code",
   "execution_count": 55,
   "id": "e664c566",
   "metadata": {},
   "outputs": [
    {
     "data": {
      "text/plain": [
       "'değer'"
      ]
     },
     "execution_count": 55,
     "metadata": {},
     "output_type": "execute_result"
    }
   ],
   "source": [
    "benım_Sozluk[\"anahtarKelime\"]"
   ]
  },
  {
   "cell_type": "code",
   "execution_count": 56,
   "id": "99c3bc5a",
   "metadata": {},
   "outputs": [],
   "source": [
    "kalorıSozlugu={\"muz\" :100 ,\"elma\":234 ,\"armut\": 211,}"
   ]
  },
  {
   "cell_type": "code",
   "execution_count": 57,
   "id": "8ed4e3a3",
   "metadata": {},
   "outputs": [
    {
     "data": {
      "text/plain": [
       "{'muz': 100, 'elma': 234, 'armut': 211}"
      ]
     },
     "execution_count": 57,
     "metadata": {},
     "output_type": "execute_result"
    }
   ],
   "source": [
    "kalorıSozlugu"
   ]
  },
  {
   "cell_type": "code",
   "execution_count": 58,
   "id": "0dea5ba4",
   "metadata": {},
   "outputs": [
    {
     "data": {
      "text/plain": [
       "100"
      ]
     },
     "execution_count": 58,
     "metadata": {},
     "output_type": "execute_result"
    }
   ],
   "source": [
    "kalorıSozlugu[\"muz\"]"
   ]
  },
  {
   "cell_type": "markdown",
   "id": "941b53ca",
   "metadata": {},
   "source": [
    "Listelerde bir değiştirme işlemi yapamazdın ama sözlüklerde = işareti ile değeri değiştirebilirsin."
   ]
  },
  {
   "cell_type": "code",
   "execution_count": 59,
   "id": "bb1e8340",
   "metadata": {},
   "outputs": [],
   "source": [
    "kalorıSozlugu[\"muz\"]=500"
   ]
  },
  {
   "cell_type": "code",
   "execution_count": 60,
   "id": "b0c5275a",
   "metadata": {},
   "outputs": [
    {
     "data": {
      "text/plain": [
       "500"
      ]
     },
     "execution_count": 60,
     "metadata": {},
     "output_type": "execute_result"
    }
   ],
   "source": [
    "kalorıSozlugu[\"muz\"]"
   ]
  },
  {
   "cell_type": "code",
   "execution_count": 61,
   "id": "a5903c8a",
   "metadata": {},
   "outputs": [],
   "source": [
    "kalorıSozlugu[\"muz\"]=\"Börek\""
   ]
  },
  {
   "cell_type": "code",
   "execution_count": 62,
   "id": "7f369124",
   "metadata": {},
   "outputs": [
    {
     "data": {
      "text/plain": [
       "{'muz': 'Börek', 'elma': 234, 'armut': 211}"
      ]
     },
     "execution_count": 62,
     "metadata": {},
     "output_type": "execute_result"
    }
   ],
   "source": [
    "kalorıSozlugu"
   ]
  },
  {
   "cell_type": "code",
   "execution_count": 63,
   "id": "a3162394",
   "metadata": {},
   "outputs": [],
   "source": [
    "kalorıSozlugu[\"muz\"]=400"
   ]
  },
  {
   "cell_type": "code",
   "execution_count": 64,
   "id": "cf38161c",
   "metadata": {},
   "outputs": [
    {
     "data": {
      "text/plain": [
       "{'muz': 400, 'elma': 234, 'armut': 211}"
      ]
     },
     "execution_count": 64,
     "metadata": {},
     "output_type": "execute_result"
    }
   ],
   "source": [
    "kalorıSozlugu"
   ]
  },
  {
   "cell_type": "markdown",
   "id": "37d025b2",
   "metadata": {},
   "source": [
    "SETLER"
   ]
  },
  {
   "cell_type": "markdown",
   "id": "56599841",
   "metadata": {},
   "source": [
    "Birden fazla veriyi içinde barındıran bir koleksiyondur .\n",
    ": kullanılmaz\n",
    "süslü parantezin içine yazılır\n",
    "her veriden sadece bir tane barındırabilirsin"
   ]
  },
  {
   "cell_type": "markdown",
   "id": "5afd585e",
   "metadata": {},
   "source": [
    "lıstem= 12"
   ]
  },
  {
   "cell_type": "code",
   "execution_count": 1,
   "id": "c727eac5",
   "metadata": {},
   "outputs": [],
   "source": [
    "\n",
    "lıstem=[1,2,3,4,5,6,7,8,9]"
   ]
  },
  {
   "cell_type": "code",
   "execution_count": 7,
   "id": "7d4a8984",
   "metadata": {},
   "outputs": [],
   "source": [
    "lısteSetım=set(lıstem)"
   ]
  },
  {
   "cell_type": "code",
   "execution_count": 8,
   "id": "8861dee7",
   "metadata": {},
   "outputs": [
    {
     "data": {
      "text/plain": [
       "[1, 2, 3, 4, 5, 6, 7, 8, 9]"
      ]
     },
     "execution_count": 8,
     "metadata": {},
     "output_type": "execute_result"
    }
   ],
   "source": [
    "lıstem"
   ]
  },
  {
   "cell_type": "code",
   "execution_count": 9,
   "id": "b4e52d5e",
   "metadata": {},
   "outputs": [
    {
     "data": {
      "text/plain": [
       "{1, 2, 3, 4, 5, 6, 7, 8, 9}"
      ]
     },
     "execution_count": 9,
     "metadata": {},
     "output_type": "execute_result"
    }
   ],
   "source": [
    "lısteSetım"
   ]
  },
  {
   "cell_type": "code",
   "execution_count": 10,
   "id": "05b6d7d9",
   "metadata": {},
   "outputs": [
    {
     "data": {
      "text/plain": [
       "set"
      ]
     },
     "execution_count": 10,
     "metadata": {},
     "output_type": "execute_result"
    }
   ],
   "source": [
    "type(lısteSetım)"
   ]
  },
  {
   "cell_type": "markdown",
   "id": "a7012f41",
   "metadata": {},
   "source": [
    "boş set tanımlamak istersem eğer"
   ]
  },
  {
   "cell_type": "code",
   "execution_count": 11,
   "id": "f2ae7221",
   "metadata": {},
   "outputs": [
    {
     "data": {
      "text/plain": [
       "set()"
      ]
     },
     "execution_count": 11,
     "metadata": {},
     "output_type": "execute_result"
    }
   ],
   "source": [
    "set()"
   ]
  },
  {
   "cell_type": "code",
   "execution_count": 12,
   "id": "2f94b3b1",
   "metadata": {},
   "outputs": [],
   "source": [
    "bossetım=set()"
   ]
  },
  {
   "cell_type": "code",
   "execution_count": 13,
   "id": "5327a4f9",
   "metadata": {},
   "outputs": [
    {
     "data": {
      "text/plain": [
       "set()"
      ]
     },
     "execution_count": 13,
     "metadata": {},
     "output_type": "execute_result"
    }
   ],
   "source": [
    "bossetım"
   ]
  },
  {
   "cell_type": "code",
   "execution_count": 14,
   "id": "f40a2099",
   "metadata": {},
   "outputs": [],
   "source": [
    "bossetım.add(10)"
   ]
  },
  {
   "cell_type": "code",
   "execution_count": 15,
   "id": "c86cd28a",
   "metadata": {},
   "outputs": [],
   "source": [
    "bossetım.add(20)"
   ]
  },
  {
   "cell_type": "code",
   "execution_count": 16,
   "id": "595287c7",
   "metadata": {},
   "outputs": [],
   "source": [
    "bossetım.add(30)"
   ]
  },
  {
   "cell_type": "code",
   "execution_count": 18,
   "id": "a7925623",
   "metadata": {},
   "outputs": [
    {
     "data": {
      "text/plain": [
       "{10, 20, 30}"
      ]
     },
     "execution_count": 18,
     "metadata": {},
     "output_type": "execute_result"
    }
   ],
   "source": [
    "bossetım"
   ]
  },
  {
   "cell_type": "markdown",
   "id": "dae1a5c6",
   "metadata": {},
   "source": [
    "boş set tanımlayabildiğin gibi bpş sözlük de tanımlayabilirsin"
   ]
  },
  {
   "cell_type": "code",
   "execution_count": 19,
   "id": "9234b914",
   "metadata": {},
   "outputs": [],
   "source": [
    "bosSozluk=dict()"
   ]
  },
  {
   "cell_type": "code",
   "execution_count": 20,
   "id": "d266b101",
   "metadata": {},
   "outputs": [],
   "source": [
    "bosSozluk[\"key\"]=1234"
   ]
  },
  {
   "cell_type": "code",
   "execution_count": 21,
   "id": "07398063",
   "metadata": {},
   "outputs": [
    {
     "data": {
      "text/plain": [
       "{'key': 1234}"
      ]
     },
     "execution_count": 21,
     "metadata": {},
     "output_type": "execute_result"
    }
   ],
   "source": [
    "bosSozluk"
   ]
  },
  {
   "cell_type": "markdown",
   "id": "0e9cebe0",
   "metadata": {},
   "source": [
    "DEMETLER-TUPLE"
   ]
  },
  {
   "cell_type": "code",
   "execution_count": 25,
   "id": "8d9107d6",
   "metadata": {},
   "outputs": [],
   "source": [
    "#Yazdığın kod satırlarının değişmesini istemediğin durumlarda tupple kullanırsın.\n",
    "#normal parantez içine yazılırlar.\n",
    "# değişmezlik özelliği vardır\n",
    "#listelerdeki gibi ekleme ve değiştirme yapamassın\n",
    "#2 tane özelliği vardır kullanabileceğin : Count,İndeks\n",
    "#indeks mantığı ile çalışırlar"
   ]
  },
  {
   "cell_type": "code",
   "execution_count": 26,
   "id": "dacba10b",
   "metadata": {},
   "outputs": [],
   "source": [
    "ılkTuplem=(1,2,3,\"a\",5)"
   ]
  },
  {
   "cell_type": "code",
   "execution_count": 27,
   "id": "b278d44e",
   "metadata": {},
   "outputs": [
    {
     "data": {
      "text/plain": [
       "(1, 2, 3, 'a', 5)"
      ]
     },
     "execution_count": 27,
     "metadata": {},
     "output_type": "execute_result"
    }
   ],
   "source": [
    "ılkTuplem"
   ]
  },
  {
   "cell_type": "code",
   "execution_count": 28,
   "id": "d544fe20",
   "metadata": {},
   "outputs": [
    {
     "data": {
      "text/plain": [
       "3"
      ]
     },
     "execution_count": 28,
     "metadata": {},
     "output_type": "execute_result"
    }
   ],
   "source": [
    "ılkTuplem[2]"
   ]
  },
  {
   "cell_type": "code",
   "execution_count": 29,
   "id": "ac3d5308",
   "metadata": {},
   "outputs": [],
   "source": [
    "# değişmezlik özelliği vardır"
   ]
  },
  {
   "cell_type": "code",
   "execution_count": 30,
   "id": "83f8e93a",
   "metadata": {},
   "outputs": [
    {
     "ename": "TypeError",
     "evalue": "'tuple' object does not support item assignment",
     "output_type": "error",
     "traceback": [
      "\u001b[1;31m---------------------------------------------------------------------------\u001b[0m",
      "\u001b[1;31mTypeError\u001b[0m                                 Traceback (most recent call last)",
      "\u001b[1;32m~\\AppData\\Local\\Temp/ipykernel_3468/645039727.py\u001b[0m in \u001b[0;36m<module>\u001b[1;34m\u001b[0m\n\u001b[1;32m----> 1\u001b[1;33m \u001b[0mılkTuplem\u001b[0m\u001b[1;33m[\u001b[0m\u001b[1;36m2\u001b[0m\u001b[1;33m]\u001b[0m\u001b[1;33m=\u001b[0m\u001b[1;36m5\u001b[0m\u001b[1;33m\u001b[0m\u001b[1;33m\u001b[0m\u001b[0m\n\u001b[0m",
      "\u001b[1;31mTypeError\u001b[0m: 'tuple' object does not support item assignment"
     ]
    }
   ],
   "source": [
    "ılkTuplem[2]=5"
   ]
  },
  {
   "cell_type": "code",
   "execution_count": 31,
   "id": "31b87ac7",
   "metadata": {},
   "outputs": [
    {
     "data": {
      "text/plain": [
       "1"
      ]
     },
     "execution_count": 31,
     "metadata": {},
     "output_type": "execute_result"
    }
   ],
   "source": [
    "ılkTuplem.count(\"a\")"
   ]
  },
  {
   "cell_type": "code",
   "execution_count": 33,
   "id": "f51c5038",
   "metadata": {},
   "outputs": [
    {
     "data": {
      "text/plain": [
       "1"
      ]
     },
     "execution_count": 33,
     "metadata": {},
     "output_type": "execute_result"
    }
   ],
   "source": [
    "ılkTuplem.index(2)"
   ]
  },
  {
   "cell_type": "code",
   "execution_count": null,
   "id": "71a0ed06",
   "metadata": {},
   "outputs": [],
   "source": []
  }
 ],
 "metadata": {
  "kernelspec": {
   "display_name": "Python 3 (ipykernel)",
   "language": "python",
   "name": "python3"
  },
  "language_info": {
   "codemirror_mode": {
    "name": "ipython",
    "version": 3
   },
   "file_extension": ".py",
   "mimetype": "text/x-python",
   "name": "python",
   "nbconvert_exporter": "python",
   "pygments_lexer": "ipython3",
   "version": "3.9.7"
  }
 },
 "nbformat": 4,
 "nbformat_minor": 5
}
